{
  "cells": [
    {
      "cell_type": "code",
      "execution_count": 38,
      "metadata": {
        "id": "NljjmE2Is-Xz"
      },
      "outputs": [],
      "source": [
        "import re\n",
        "import time\n",
        "import warnings\n",
        "import unicodedata\n",
        "\n",
        "import pandas as pd\n",
        "import matplotlib.pyplot as plt\n",
        "\n",
        "import torch\n",
        "import torch.nn as nn\n",
        "from torch.optim import AdamW\n",
        "from tqdm.notebook import tqdm\n",
        "from torch.utils.data import Dataset, DataLoader\n",
        "\n",
        "%matplotlib inline\n",
        "warnings.filterwarnings('ignore')"
      ]
    },
    {
      "cell_type": "markdown",
      "metadata": {
        "id": "QtvbhbNYs-X1"
      },
      "source": [
        "### Preparing data"
      ]
    },
    {
      "cell_type": "code",
      "execution_count": 40,
      "metadata": {
        "id": "0SBOzw5ks-X2"
      },
      "outputs": [],
      "source": [
        "train_df=pd.read_csv(\"data/train.csv\", encoding=\"utf-8\")\n",
        "test_df=pd.read_csv(\"data/test.csv\", encoding=\"utf-8\")\n",
        "valid_df=pd.read_csv(\"data/valid.csv\", encoding=\"utf-8\")"
      ]
    },
    {
      "cell_type": "code",
      "execution_count": 41,
      "metadata": {
        "id": "JPqkAiJps-X3"
      },
      "outputs": [],
      "source": [
        "# Converts the unicode file to ascii\n",
        "def unicode_to_ascii(s):\n",
        "    \"\"\"\n",
        "    Normalizes latin chars with accent to their canonical decomposition\n",
        "    \"\"\"\n",
        "    return ''.join(c for c in unicodedata.normalize('NFD', s)\n",
        "        if unicodedata.category(c) != 'Mn')\n",
        "\n",
        "def preprocess_sentence(w):\n",
        "    w = unicode_to_ascii(w.lower().strip())\n",
        "\n",
        "    # creating a space between a word and the punctuation following it\n",
        "    # eg: \"he is a boy.\" => \"he is a boy .\"\n",
        "    # Reference:- https://stackoverflow.com/questions/3645931/python-padding-punctuation-with-white-spaces-keeping-punctuation\n",
        "    w = re.sub(r\"([?.!,¿])\", r\" \\1 \", w)\n",
        "    w = re.sub(r'[\" \"]+', \" \", w)\n",
        "\n",
        "    # replacing everything with space except (a-z, A-Z, \".\", \"?\", \"!\", \",\",\"'\",\"äöüß\")\n",
        "    w = re.sub(r\"[^a-zA-Z?.!,¿'äöüß]+\", \" \", w)\n",
        "\n",
        "    w = w.rstrip().strip()\n",
        "\n",
        "    # adding a start and an end token to the sentence\n",
        "    # so that the model know when to start and stop predicting.\n",
        "    w = '[START] ' + w + ' [END]'\n",
        "    return w"
      ]
    },
    {
      "cell_type": "code",
      "execution_count": 42,
      "metadata": {
        "id": "-akpfP8Hs-X4"
      },
      "outputs": [],
      "source": [
        "train_df[\"eng\"] = train_df.eng.apply(lambda w: preprocess_sentence(w))\n",
        "train_df[\"deu\"] = train_df.deu.apply(lambda w: preprocess_sentence(w))\n",
        "\n",
        "\n",
        "test_df[\"eng\"] = test_df.eng.apply(lambda w: preprocess_sentence(w))\n",
        "test_df[\"deu\"] = test_df.deu.apply(lambda w: preprocess_sentence(w))\n",
        "\n",
        "\n",
        "valid_df[\"eng\"] = valid_df.eng.apply(lambda w: preprocess_sentence(w))\n",
        "valid_df[\"deu\"] = valid_df.deu.apply(lambda w: preprocess_sentence(w))"
      ]
    },
    {
      "cell_type": "code",
      "execution_count": 43,
      "metadata": {
        "colab": {
          "base_uri": "https://localhost:8080/",
          "height": 206
        },
        "id": "4xDdpCgEs-X4",
        "outputId": "b8c8108b-99d1-4214-98e8-f60e408af077"
      },
      "outputs": [
        {
          "data": {
            "text/html": [
              "<div>\n",
              "<style scoped>\n",
              "    .dataframe tbody tr th:only-of-type {\n",
              "        vertical-align: middle;\n",
              "    }\n",
              "\n",
              "    .dataframe tbody tr th {\n",
              "        vertical-align: top;\n",
              "    }\n",
              "\n",
              "    .dataframe thead th {\n",
              "        text-align: right;\n",
              "    }\n",
              "</style>\n",
              "<table border=\"1\" class=\"dataframe\">\n",
              "  <thead>\n",
              "    <tr style=\"text-align: right;\">\n",
              "      <th></th>\n",
              "      <th>eng</th>\n",
              "      <th>deu</th>\n",
              "    </tr>\n",
              "  </thead>\n",
              "  <tbody>\n",
              "    <tr>\n",
              "      <th>0</th>\n",
              "      <td>[START] i've already drunk three cups of coffe...</td>\n",
              "      <td>[START] ich habe schon drei tassen kaffee getr...</td>\n",
              "    </tr>\n",
              "    <tr>\n",
              "      <th>1</th>\n",
              "      <td>[START] tom finally succeeded in getting mary ...</td>\n",
              "      <td>[START] es ist tom endlich gelungen , maria ei...</td>\n",
              "    </tr>\n",
              "    <tr>\n",
              "      <th>2</th>\n",
              "      <td>[START] i imagine that's true . [END]</td>\n",
              "      <td>[START] ich denke , das ist wahr . [END]</td>\n",
              "    </tr>\n",
              "    <tr>\n",
              "      <th>3</th>\n",
              "      <td>[START] i need something smaller . [END]</td>\n",
              "      <td>[START] ich brauche etwas kleineres . [END]</td>\n",
              "    </tr>\n",
              "    <tr>\n",
              "      <th>4</th>\n",
              "      <td>[START] a green banana is not ripe enough to e...</td>\n",
              "      <td>[START] eine grune banane ist nicht reif genug...</td>\n",
              "    </tr>\n",
              "  </tbody>\n",
              "</table>\n",
              "</div>"
            ],
            "text/plain": [
              "                                                 eng  \\\n",
              "0  [START] i've already drunk three cups of coffe...   \n",
              "1  [START] tom finally succeeded in getting mary ...   \n",
              "2              [START] i imagine that's true . [END]   \n",
              "3           [START] i need something smaller . [END]   \n",
              "4  [START] a green banana is not ripe enough to e...   \n",
              "\n",
              "                                                 deu  \n",
              "0  [START] ich habe schon drei tassen kaffee getr...  \n",
              "1  [START] es ist tom endlich gelungen , maria ei...  \n",
              "2           [START] ich denke , das ist wahr . [END]  \n",
              "3        [START] ich brauche etwas kleineres . [END]  \n",
              "4  [START] eine grune banane ist nicht reif genug...  "
            ]
          },
          "execution_count": 43,
          "metadata": {},
          "output_type": "execute_result"
        }
      ],
      "source": [
        "train_df.head()"
      ]
    },
    {
      "cell_type": "code",
      "execution_count": 44,
      "metadata": {
        "id": "5cS8P29es-X5"
      },
      "outputs": [],
      "source": [
        "# This class creates a word -> index mapping for each language\n",
        "class LanguageTokenizer():\n",
        "    def __init__(self, lang):\n",
        "        \"\"\" lang are the list of phrases from each language\"\"\"\n",
        "        self.lang = lang\n",
        "        self.word2idx = {}\n",
        "        self.idx2word = {}\n",
        "        self.vocab = set()\n",
        "\n",
        "        self.create_index()\n",
        "\n",
        "    def create_index(self):\n",
        "        for phrase in self.lang:\n",
        "            # update with individual tokens\n",
        "            self.vocab.update(phrase.split(' '))\n",
        "\n",
        "        # sort the vocab\n",
        "        self.vocab = sorted(self.vocab)\n",
        "\n",
        "        # add a padding token with index 0\n",
        "        self.word2idx['<pad>'] = 0\n",
        "\n",
        "        # word to index mapping\n",
        "        for index, word in enumerate(self.vocab):\n",
        "            self.word2idx[word] = index + 1 # +1 because of pad token\n",
        "\n",
        "        # index to word mapping\n",
        "        for word, index in self.word2idx.items():\n",
        "            self.idx2word[index] = word\n",
        "\n",
        "    def tokenize(self, sentence):\n",
        "        \"\"\" returns a list of indexes (for each token in the sentence) \"\"\"\n",
        "        return [self.word2idx[word] for word in sentence.split(' ')]\n",
        "\n",
        "    def detokenize(self, encoded_tokens):\n",
        "        \"\"\"\n",
        "        Takes a list of indexes (representing a sentence) and returns the sentence\n",
        "        \"\"\"\n",
        "        words = [self.idx2word[int(token)] for token in encoded_tokens if int(token) != 0]\n",
        "\n",
        "        # remove [START] and [END] tokens\n",
        "        words=words[1:-1]\n",
        "        return ' '.join(words)\n",
        "\n",
        "    def lookup(self,encoded_tokens):\n",
        "        \"\"\"\n",
        "        Takes a list of indexes (representing a sentence) and returns the sentence\n",
        "        \"\"\"\n",
        "        words = [self.idx2word[int(token)] for token in encoded_tokens]\n",
        "\n",
        "        return ' '.join(words)"
      ]
    },
    {
      "cell_type": "code",
      "execution_count": 45,
      "metadata": {
        "id": "F08duyqDs-X6"
      },
      "outputs": [],
      "source": [
        "# index language using the class above\n",
        "inp_lang_train = LanguageTokenizer(train_df[\"deu\"].values.tolist())\n",
        "targ_lang_train = LanguageTokenizer(train_df[\"eng\"].values.tolist())\n",
        "\n",
        "inp_lang_valid=LanguageTokenizer(valid_df[\"deu\"].values.tolist())\n",
        "targ_lang_valid=LanguageTokenizer(valid_df[\"eng\"].values.tolist())\n",
        "\n",
        "inp_lang_test=LanguageTokenizer(test_df[\"deu\"].values.tolist())\n",
        "targ_lang_test=LanguageTokenizer(test_df[\"eng\"].values.tolist())"
      ]
    },
    {
      "cell_type": "code",
      "execution_count": 46,
      "metadata": {
        "colab": {
          "base_uri": "https://localhost:8080/"
        },
        "id": "oOlTe4EXs-X6",
        "outputId": "1845c72d-a7a7-4806-e4f5-b9a18ebf77c4"
      },
      "outputs": [
        {
          "name": "stdout",
          "output_type": "stream",
          "text": [
            "[8, 13875, 12204, 22803, 6202, 25396, 14554, 11443, 5, 7]\n",
            "[8, 8363, 14266, 25865, 7345, 10745, 4, 17528, 6735, 11332, 13916, 29594, 10378, 31240, 7525, 5, 7]\n",
            "[8, 13875, 5799, 4, 5636, 14266, 29592, 5, 7]\n",
            "[8, 13875, 4944, 8419, 15240, 5, 7]\n",
            "[8, 6769, 12071, 2900, 14266, 19096, 21203, 10876, 31416, 8380, 5, 7]\n",
            "[8, 25865, 30661, 19128, 8419, 29169, 5770, 26230, 4, 30706, 30482, 13910, 3004, 5, 7]\n",
            "[8, 30482, 12482, 6769, 25856, 30961, 5, 7]\n",
            "[8, 8363, 18791, 28994, 30138, 30961, 13978, 1348, 4, 17755, 5879, 22099, 31445, 25016, 31240, 8352, 4, 762, 5636, 3464, 17754, 908, 13783, 5821, 8649, 29679, 5, 7]\n",
            "[8, 4599, 6769, 18684, 13379, 1, 7]\n",
            "[8, 25865, 12478, 6735, 19670, 12152, 9501, 11349, 5, 7]\n"
          ]
        }
      ],
      "source": [
        "# Vectorize the input and target languages\n",
        "input_tensor_train=[inp_lang_train.tokenize(sentence) for sentence in train_df[\"deu\"].values.tolist()]\n",
        "target_tensor_train=[targ_lang_train.tokenize(sentence) for sentence in train_df[\"eng\"].values.tolist()]\n",
        "\n",
        "input_tensor_valid=[inp_lang_valid.tokenize(sentence) for sentence in valid_df[\"deu\"].values.tolist()]\n",
        "target_tensor_valid=[targ_lang_valid.tokenize(sentence) for sentence in valid_df[\"eng\"].values.tolist()]\n",
        "\n",
        "input_tensor_test=[inp_lang_test.tokenize(sentence) for sentence in test_df[\"deu\"].values.tolist()]\n",
        "target_tensor_test=[targ_lang_test.tokenize(sentence) for sentence in test_df[\"eng\"].values.tolist()]\n",
        "\n",
        "\n",
        "for row in input_tensor_train[:10]:\n",
        "    print(row)"
      ]
    },
    {
      "cell_type": "code",
      "execution_count": 47,
      "metadata": {
        "colab": {
          "base_uri": "https://localhost:8080/"
        },
        "id": "6Oz9_ZI5s-X7",
        "outputId": "2a9609b5-62da-4b41-b15b-d6d7a914959a"
      },
      "outputs": [
        {
          "data": {
            "text/plain": [
              "[\"i've already drunk three cups of coffee .\",\n",
              " 'tom finally succeeded in getting mary to tell him how she really felt .',\n",
              " \"i imagine that's true .\",\n",
              " 'i need something smaller .',\n",
              " 'a green banana is not ripe enough to eat .',\n",
              " 'tom never wanted to do anything we asked him to do .',\n",
              " 'we had a great time .',\n",
              " 'it took far less time to house train my alsatian than my other dog .',\n",
              " 'please leave a message .',\n",
              " 'tom asked a few good questions .']"
            ]
          },
          "execution_count": 47,
          "metadata": {},
          "output_type": "execute_result"
        }
      ],
      "source": [
        "detokenize_tensor=[targ_lang_train.detokenize(s) for s in target_tensor_train[:10]]\n",
        "detokenize_tensor"
      ]
    },
    {
      "cell_type": "code",
      "execution_count": 48,
      "metadata": {
        "colab": {
          "base_uri": "https://localhost:8080/"
        },
        "id": "bnPAlzlAs-X7",
        "outputId": "5faf1682-af4e-4666-fc74-9918b05caf98"
      },
      "outputs": [
        {
          "name": "stdout",
          "output_type": "stream",
          "text": [
            "[START] ich habe schon drei tassen kaffee getrunken . [END]\n",
            "[START] es ist tom endlich gelungen , maria ein gestandnis ihrer wahren gefuhle zu entlocken . [END]\n",
            "[START] ich denke , das ist wahr . [END]\n",
            "[START] ich brauche etwas kleineres . [END]\n",
            "[START] eine grune banane ist nicht reif genug zum essen . [END]\n",
            "[START] tom wollte nie etwas von dem tun , worum wir ihn baten . [END]\n",
            "[START] wir hatten eine tolle zeit . [END]\n",
            "[START] es nahm viel weniger zeit in anspruch , meinen deutschen schaferhund zur stubenreinheit zu erziehen , als das bei meinem anderen hund der fall war . [END]\n",
            "[START] bitte eine nachricht hinterlassen ! [END]\n",
            "[START] tom hat ein paar gute fragen gestellt . [END]\n"
          ]
        }
      ],
      "source": [
        "for s in input_tensor_train[:10]:\n",
        "    print(inp_lang_train.lookup(s))"
      ]
    },
    {
      "cell_type": "code",
      "execution_count": 49,
      "metadata": {
        "id": "wdqUumGks-X7"
      },
      "outputs": [],
      "source": [
        "input_tensor_train=[torch.tensor(sentence) for sentence in input_tensor_train]\n",
        "target_tensor_train=[torch.tensor(sentence) for sentence in target_tensor_train]\n",
        "\n",
        "input_tensor_valid=[torch.tensor(sentence) for sentence in input_tensor_valid]\n",
        "target_tensor_valid=[torch.tensor(sentence) for sentence in target_tensor_valid]\n",
        "\n",
        "input_tensor_test=[torch.tensor(sentence) for sentence in input_tensor_test]\n",
        "target_tensor_test=[torch.tensor(sentence) for sentence in target_tensor_test]"
      ]
    },
    {
      "cell_type": "code",
      "execution_count": 50,
      "metadata": {
        "id": "L50kSvs8s-X8"
      },
      "outputs": [],
      "source": [
        "class Config:\n",
        "    BATCH_SIZE=64\n",
        "\n",
        "    embedding_dim=256\n",
        "    units=1024\n",
        "    vocab_inp_size=len(inp_lang_train.word2idx)\n",
        "    vocab_tar_size=len(targ_lang_train.word2idx)\n",
        "    num_layers=4\n",
        "    d_model=128\n",
        "    dff=512\n",
        "    num_heads=8\n",
        "    dropout_rate=0.1\n",
        "\n",
        "    workers=2\n",
        "    epochs=200\n",
        "    patience=5\n",
        "    learning_rate=0.00003\n",
        "\n",
        "    load_weights_path = \"/\"\n",
        "    save_file_name = \"model_weights_transformer\"\n",
        "\n",
        "    device=torch.device(\"cuda\" if torch.cuda.is_available() else \"cpu\")"
      ]
    },
    {
      "cell_type": "code",
      "execution_count": 51,
      "metadata": {
        "id": "ZWVqOH9es-X8"
      },
      "outputs": [],
      "source": [
        "#inplace padding\n",
        "input_tensor_train=nn.utils.rnn.pad_sequence(input_tensor_train, batch_first=True, padding_value=0)\n",
        "target_tensor_train=nn.utils.rnn.pad_sequence(target_tensor_train, batch_first=True, padding_value=0)\n",
        "\n",
        "input_tensor_valid=nn.utils.rnn.pad_sequence(input_tensor_valid, batch_first=True, padding_value=0)\n",
        "target_tensor_valid=nn.utils.rnn.pad_sequence(target_tensor_valid, batch_first=True, padding_value=0)\n",
        "\n",
        "input_tensor_test=nn.utils.rnn.pad_sequence(input_tensor_test, batch_first=True, padding_value=0)\n",
        "target_tensor_test=nn.utils.rnn.pad_sequence(target_tensor_test, batch_first=True, padding_value=0)"
      ]
    },
    {
      "cell_type": "code",
      "execution_count": 52,
      "metadata": {
        "id": "7bsd9AjXs-X8"
      },
      "outputs": [],
      "source": [
        "class LanguageDataset(Dataset):\n",
        "    def __init__(self, deu, eng,max_tokens=128):\n",
        "        self.deu=deu\n",
        "        self.eng=eng\n",
        "        self.max_tokens=max_tokens\n",
        "\n",
        "    def __getitem__(self,index):\n",
        "        eng=self.eng[index]\n",
        "        deu=self.deu[index]\n",
        "\n",
        "        deu=deu[:self.max_tokens]\n",
        "        eng=eng[:(self.max_tokens+1)]\n",
        "\n",
        "        eng_inputs=eng[:-1]\n",
        "        eng_labels=eng[1:]\n",
        "\n",
        "        return (deu,eng_inputs),eng_labels\n",
        "\n",
        "    def __len__(self):\n",
        "        return len(self.deu)"
      ]
    },
    {
      "cell_type": "code",
      "execution_count": 53,
      "metadata": {
        "id": "FA5_En3Cs-X8"
      },
      "outputs": [],
      "source": [
        "train_dataset=LanguageDataset(input_tensor_train,target_tensor_train)\n",
        "train_loader=DataLoader(train_dataset,\n",
        "                        shuffle=True,\n",
        "                        drop_last=True,\n",
        "                        batch_size=Config.BATCH_SIZE)\n",
        "\n",
        "valid_dataset=LanguageDataset(input_tensor_valid,target_tensor_valid)\n",
        "valid_loader=DataLoader(valid_dataset,\n",
        "                        batch_size=Config.BATCH_SIZE,\n",
        "                        drop_last=True)\n",
        "\n",
        "test_dataset=LanguageDataset(input_tensor_test,target_tensor_test)\n",
        "test_loader=DataLoader(test_dataset,\n",
        "                       batch_size=Config.BATCH_SIZE,\n",
        "                       drop_last=True)"
      ]
    },
    {
      "cell_type": "code",
      "execution_count": 54,
      "metadata": {
        "colab": {
          "base_uri": "https://localhost:8080/"
        },
        "id": "hhirT-_ts-X9",
        "outputId": "53c8aa38-7429-48d9-9817-1095f668b8b9"
      },
      "outputs": [
        {
          "name": "stdout",
          "output_type": "stream",
          "text": [
            "torch.Size([64, 90])\n",
            "torch.Size([64, 74])\n",
            "torch.Size([64, 74])\n",
            "tensor([   11, 14904, 14824, 13860, 11806,  7228,     8,    10,     0,     0])\n",
            "tensor([14904, 14824, 13860, 11806,  7228,     8,    10,     0,     0,     0])\n"
          ]
        }
      ],
      "source": [
        "for (deu,eng),eng_labels in train_loader:\n",
        "    print(deu.shape)\n",
        "    print(eng.shape)\n",
        "    print(eng_labels.shape)\n",
        "\n",
        "    print(eng[63][:10])\n",
        "    print(eng_labels[63][:10])\n",
        "    break"
      ]
    },
    {
      "cell_type": "code",
      "execution_count": 55,
      "metadata": {
        "id": "HRd7tlBxs-X9"
      },
      "outputs": [],
      "source": [
        "def positional_embedding(length,depth):\n",
        "    depth=depth/2\n",
        "\n",
        "    positions=torch.arange(length).unsqueeze(1) #shape=(length,1)\n",
        "    depths=torch.arange(depth).unsqueeze(0)/depth #shape=(1,depth)\n",
        "\n",
        "    angle_rates=1/(10000**depths) #shape=(1,depth)\n",
        "    angle_rads=positions*angle_rates #shape=(pos,depth)\n",
        "\n",
        "    pos_encoding=torch.cat([torch.sin(angle_rads),\n",
        "                            torch.cos(angle_rads)],\n",
        "                            dim=-1) #shape=(pos,depth*2)\n",
        "\n",
        "    return pos_encoding.float()"
      ]
    },
    {
      "cell_type": "code",
      "execution_count": 56,
      "metadata": {
        "colab": {
          "base_uri": "https://localhost:8080/",
          "height": 473
        },
        "id": "rVWoyouFs-X9",
        "outputId": "f5e2edbf-2172-49d5-e1ed-c375a14d6192"
      },
      "outputs": [
        {
          "name": "stdout",
          "output_type": "stream",
          "text": [
            "torch.Size([2048, 512])\n"
          ]
        },
        {
          "data": {
            "image/png": "[encoded data removed]",
            "text/plain": [
              "<Figure size 640x480 with 2 Axes>"
            ]
          },
          "metadata": {},
          "output_type": "display_data"
        }
      ],
      "source": [
        "pos_encoding=positional_embedding(length=2048,depth=512)\n",
        "print(pos_encoding.shape)\n",
        "\n",
        "plt.pcolormesh(pos_encoding.numpy().T,cmap='RdBu')\n",
        "plt.ylabel('Depth')\n",
        "plt.xlabel('Position')\n",
        "plt.colorbar()\n",
        "plt.show()"
      ]
    },
    {
      "cell_type": "code",
      "execution_count": 57,
      "metadata": {
        "colab": {
          "base_uri": "https://localhost:8080/",
          "height": 453
        },
        "id": "DzIin0AXs-X9",
        "outputId": "e33a6383-079f-4aca-fb55-c6a842115f9e"
      },
      "outputs": [
        {
          "data": {
            "text/plain": [
              "(0.0, 1.0)"
            ]
          },
          "execution_count": 57,
          "metadata": {},
          "output_type": "execute_result"
        },
        {
          "data": {
            "image/png": "[encoded data removed]",
            "text/plain": [
              "<Figure size 640x480 with 2 Axes>"
            ]
          },
          "metadata": {},
          "output_type": "display_data"
        }
      ],
      "source": [
        "pos_encoding/=torch.norm(pos_encoding,dim=1,keepdim=True)\n",
        "p=pos_encoding[1000]\n",
        "dots=torch.einsum('pd,d -> p',pos_encoding,p)\n",
        "plt.subplot(2,1,1)\n",
        "plt.plot(dots)\n",
        "plt.ylim([0,1])\n",
        "plt.plot([950, 950, float('nan'), 1050, 1050],\n",
        "         [0,1,float('nan'),0,1], color='k', label='Zoom')\n",
        "plt.legend()\n",
        "plt.subplot(2,1,2)\n",
        "plt.plot(dots)\n",
        "plt.xlim([950, 1050])\n",
        "plt.ylim([0,1])"
      ]
    },
    {
      "cell_type": "code",
      "execution_count": 58,
      "metadata": {
        "id": "1_qdRrvPs-X9"
      },
      "outputs": [],
      "source": [
        "class PositionalEmbedding(nn.Module):\n",
        "    def __init__(self,vocab_size,d_model):\n",
        "        super().__init__()\n",
        "        self.d_model=d_model\n",
        "        self.embedding=nn.Embedding(vocab_size,d_model,padding_idx=0).to(Config.device)\n",
        "        self.pos_encoding=positional_embedding(length=2048,depth=d_model).to(Config.device)\n",
        "\n",
        "    def forward(self,x):\n",
        "        length=x.size(1)\n",
        "        x=self.embedding(x) #shape=(batch,length,d_model)\n",
        "\n",
        "        x*=torch.sqrt(torch.tensor(self.d_model,dtype=torch.float32))\n",
        "        x+=self.pos_encoding[:length,:]\n",
        "        return x"
      ]
    },
    {
      "cell_type": "code",
      "execution_count": null,
      "metadata": {
        "id": "lUApyB5Ms-X-"
      },
      "outputs": [],
      "source": [
        "embed_deu=PositionalEmbedding(vocab_size=Config.vocab_inp_size,d_model=512)\n",
        "embed_eng=PositionalEmbedding(vocab_size=Config.vocab_tar_size,d_model=512)\n",
        "\n",
        "deu_emb=embed_deu(deu.to(Config.device))\n",
        "en_emb=embed_eng(eng.to(Config.device))"
      ]
    },
    {
      "cell_type": "code",
      "execution_count": null,
      "metadata": {
        "colab": {
          "base_uri": "https://localhost:8080/"
        },
        "id": "wRtlu1K-s-X-",
        "outputId": "6128e4d9-f250-4af3-aa4c-45a86afe958c"
      },
      "outputs": [
        {
          "data": {
            "text/plain": [
              "torch.Size([64, 74, 512])"
            ]
          },
          "execution_count": 77,
          "metadata": {},
          "output_type": "execute_result"
        }
      ],
      "source": [
        "en_emb.shape"
      ]
    },
    {
      "cell_type": "code",
      "execution_count": null,
      "metadata": {
        "id": "SELCTSX-s-X-"
      },
      "outputs": [],
      "source": [
        "class BaseAttention(nn.Module):\n",
        "    def __init__(self,**kwargs):\n",
        "        super().__init__()\n",
        "        self.mha=nn.MultiheadAttention(batch_first=True,**kwargs).to(Config.device)\n",
        "        self.layer_norm=nn.LayerNorm(normalized_shape=kwargs[\"embed_dim\"]).to(Config.device)"
      ]
    },
    {
      "cell_type": "code",
      "execution_count": null,
      "metadata": {
        "id": "qamvQ-Uls-X-"
      },
      "outputs": [],
      "source": [
        "class CrossAttention(BaseAttention):\n",
        "    def forward(self,x,context):\n",
        "        x=x.to(Config.device)\n",
        "        context=context.to(Config.device)\n",
        "        attn_output,attn_scores=self.mha(\n",
        "            query=x,\n",
        "            key=context,\n",
        "            value=context,\n",
        "            need_weights=True,\n",
        "            average_attn_weights=False\n",
        "        )\n",
        "\n",
        "\n",
        "        self.last_attn_scores=attn_scores\n",
        "        x=x+attn_output\n",
        "        x=self.layer_norm(x)\n",
        "        return x"
      ]
    },
    {
      "cell_type": "code",
      "execution_count": null,
      "metadata": {
        "colab": {
          "base_uri": "https://localhost:8080/"
        },
        "id": "iQWSanGjs-X-",
        "outputId": "4fab7d42-a409-4c1f-b083-f2c1c8291024"
      },
      "outputs": [
        {
          "name": "stdout",
          "output_type": "stream",
          "text": [
            "torch.Size([64, 90, 512])\n",
            "torch.Size([64, 74, 512])\n",
            "torch.Size([64, 74, 512])\n"
          ]
        }
      ],
      "source": [
        "sample_ca=CrossAttention(num_heads=2,embed_dim=512)\n",
        "print(deu_emb.shape)\n",
        "print(en_emb.shape)\n",
        "print(sample_ca(en_emb,deu_emb).shape)"
      ]
    },
    {
      "cell_type": "code",
      "execution_count": null,
      "metadata": {
        "id": "Xgk7GM4ms-X_"
      },
      "outputs": [],
      "source": [
        "class GlobalSelfAttention(BaseAttention):\n",
        "    def forward(self,x):\n",
        "        attn_output,_=self.mha(\n",
        "            query=x,\n",
        "            key=x,\n",
        "            value=x\n",
        "        )\n",
        "        x=x+attn_output\n",
        "        x=self.layer_norm(x)\n",
        "        return x"
      ]
    },
    {
      "cell_type": "code",
      "execution_count": null,
      "metadata": {
        "colab": {
          "base_uri": "https://localhost:8080/"
        },
        "id": "vfnJa7nqs-X_",
        "outputId": "335efae9-181b-44c8-f45d-16add2760af4"
      },
      "outputs": [
        {
          "name": "stdout",
          "output_type": "stream",
          "text": [
            "torch.Size([64, 90, 512])\n",
            "torch.Size([64, 90, 512])\n"
          ]
        }
      ],
      "source": [
        "sample_gsa=GlobalSelfAttention(num_heads=2,embed_dim=512)\n",
        "print(deu_emb.shape)\n",
        "print(sample_gsa(deu_emb).shape)"
      ]
    },
    {
      "cell_type": "code",
      "execution_count": null,
      "metadata": {
        "id": "9sk-ccRgs-X_"
      },
      "outputs": [],
      "source": [
        "def generate_square_subsequent_mask(seq_len):\n",
        "  mask = (torch.triu(torch.ones(seq_len, seq_len)) == 1).transpose(0, 1)\n",
        "  mask = mask.float().masked_fill(mask == 0, float('-inf')).masked_fill(mask== 1, float(0.0))\n",
        "  return mask.to(Config.device)"
      ]
    },
    {
      "cell_type": "code",
      "execution_count": null,
      "metadata": {
        "id": "fWbsYhZ3s-X_"
      },
      "outputs": [],
      "source": [
        "class CausalSelfAttention(BaseAttention):\n",
        "    def forward(self,x):\n",
        "        seq_len=x.size(1)\n",
        "\n",
        "        causal_mask=generate_square_subsequent_mask(seq_len)\n",
        "        attn_output,attn_scores=self.mha(\n",
        "            query=x,\n",
        "            key=x,\n",
        "            value=x,\n",
        "            is_causal=True,\n",
        "            attn_mask=causal_mask)\n",
        "        x=x+attn_output\n",
        "        x=self.layer_norm(x)\n",
        "        return x\n"
      ]
    },
    {
      "cell_type": "code",
      "execution_count": null,
      "metadata": {
        "colab": {
          "base_uri": "https://localhost:8080/"
        },
        "id": "upwgPeh5s-X_",
        "outputId": "f8d5e59d-fde2-46fd-a086-b9b8a6c49f05"
      },
      "outputs": [
        {
          "name": "stdout",
          "output_type": "stream",
          "text": [
            "torch.Size([64, 74, 512])\n",
            "torch.Size([64, 74, 512])\n"
          ]
        }
      ],
      "source": [
        "sample_csa=CausalSelfAttention(num_heads=2,embed_dim=512)\n",
        "print(en_emb.shape)\n",
        "print(sample_csa(en_emb).shape)"
      ]
    },
    {
      "cell_type": "code",
      "execution_count": null,
      "metadata": {
        "id": "urZatZP2s-YA"
      },
      "outputs": [],
      "source": [
        "class FeedForward(nn.Module):\n",
        "    def __init__(self,d_model,dff,dropout_rate=0.1):\n",
        "        super().__init__()\n",
        "        self.seq=nn.Sequential(\n",
        "            nn.Linear(d_model,dff),\n",
        "            nn.ReLU(),\n",
        "            nn.Dropout(dropout_rate),\n",
        "            nn.Linear(dff,d_model)\n",
        "        )\n",
        "        self.layer_norm=nn.LayerNorm(normalized_shape=d_model)\n",
        "\n",
        "    def forward(self,x):\n",
        "        x=x.to(self.seq[0].weight.device)\n",
        "        x=self.seq(x)\n",
        "        x=x+self.layer_norm(x)\n",
        "        return x.to(Config.device)"
      ]
    },
    {
      "cell_type": "code",
      "execution_count": null,
      "metadata": {
        "colab": {
          "base_uri": "https://localhost:8080/"
        },
        "id": "Q3n4JALWs-YA",
        "outputId": "10e16300-ed94-4385-f9f9-4a684721e4b2"
      },
      "outputs": [
        {
          "name": "stdout",
          "output_type": "stream",
          "text": [
            "torch.Size([64, 74, 512])\n",
            "torch.Size([64, 74, 512])\n"
          ]
        }
      ],
      "source": [
        "sample_ffn=FeedForward(d_model=512,dff=2048)\n",
        "print(en_emb.shape)\n",
        "print(sample_ffn(en_emb).shape)"
      ]
    },
    {
      "cell_type": "code",
      "execution_count": null,
      "metadata": {
        "id": "7NRTB1Oms-YA"
      },
      "outputs": [],
      "source": [
        "class EncoderLayer(nn.Module):\n",
        "    def __init__(self,*,d_model,num_heads,dff,dropout_rate=0.1):\n",
        "        super().__init__()\n",
        "        self.self_attention=GlobalSelfAttention(\n",
        "            num_heads=num_heads,\n",
        "            embed_dim=d_model,\n",
        "            dropout=dropout_rate)\n",
        "\n",
        "        self.ffn=FeedForward(d_model=d_model,dff=dff)\n",
        "\n",
        "    def forward(self,x):\n",
        "        x=self.self_attention(x)\n",
        "        x=self.ffn(x)\n",
        "        return x"
      ]
    },
    {
      "cell_type": "code",
      "execution_count": null,
      "metadata": {
        "colab": {
          "base_uri": "https://localhost:8080/"
        },
        "id": "TLKQ1FZXs-YA",
        "outputId": "ccff90a6-f456-419d-bbbb-03a5597e0e81"
      },
      "outputs": [
        {
          "name": "stdout",
          "output_type": "stream",
          "text": [
            "torch.Size([64, 90, 512])\n",
            "torch.Size([64, 90, 512])\n"
          ]
        }
      ],
      "source": [
        "sample_encoder_layer = EncoderLayer(d_model=512, num_heads=8, dff=2048)\n",
        "\n",
        "print(deu_emb.shape)\n",
        "print(sample_encoder_layer(deu_emb).shape)"
      ]
    },
    {
      "cell_type": "code",
      "execution_count": null,
      "metadata": {
        "id": "-d4l4tj3s-YA"
      },
      "outputs": [],
      "source": [
        "class Encoder(nn.Module):\n",
        "    def __init__(self,*,num_layers,d_model,num_heads,\n",
        "                 dff,vocab_size,dropout_rate=0.1):\n",
        "        super().__init__()\n",
        "\n",
        "        self.d_model=d_model\n",
        "        self.num_layers=num_layers\n",
        "\n",
        "        self.pos_embedding=PositionalEmbedding(\n",
        "            vocab_size=vocab_size,\n",
        "            d_model=d_model)\n",
        "\n",
        "        self.enc_layers=[\n",
        "            EncoderLayer(d_model=d_model,\n",
        "                         num_heads=num_heads,\n",
        "                         dff=dff,\n",
        "                         dropout_rate=dropout_rate)\n",
        "            for _ in range(num_layers)]\n",
        "\n",
        "        self.dropout=nn.Dropout(dropout_rate)\n",
        "\n",
        "    def forward(self,x):\n",
        "        x=self.pos_embedding(x)\n",
        "        x=self.dropout(x)\n",
        "\n",
        "        for i in range(self.num_layers):\n",
        "            x=self.enc_layers[i](x)\n",
        "\n",
        "        return x\n"
      ]
    },
    {
      "cell_type": "code",
      "execution_count": null,
      "metadata": {
        "colab": {
          "base_uri": "https://localhost:8080/"
        },
        "id": "HkfDPAcUs-YB",
        "outputId": "a22874e2-1b74-406b-9ca9-be6af837c4f9"
      },
      "outputs": [
        {
          "name": "stdout",
          "output_type": "stream",
          "text": [
            "torch.Size([64, 90])\n",
            "torch.Size([64, 90, 512])\n"
          ]
        }
      ],
      "source": [
        "sample_encoder=Encoder(num_layers=4,\n",
        "                       d_model=512,\n",
        "                       num_heads=8,\n",
        "                       dff=2048,\n",
        "                       vocab_size=Config.vocab_inp_size)\n",
        "\n",
        "sample_encoder_output=sample_encoder(deu.to(Config.device))\n",
        "\n",
        "print(deu.shape)\n",
        "print(sample_encoder_output.shape)"
      ]
    },
    {
      "cell_type": "code",
      "execution_count": null,
      "metadata": {
        "id": "C_KThPz1s-YB"
      },
      "outputs": [],
      "source": [
        "class DecoderLayer(nn.Module):\n",
        "    def __init__(self,*,d_model,num_heads,\n",
        "                 dff,dropout_rate=0.1):\n",
        "        super(DecoderLayer,self).__init__()\n",
        "\n",
        "        self.causal_self_attention=CausalSelfAttention(\n",
        "            num_heads=num_heads,\n",
        "            embed_dim=d_model,\n",
        "            dropout=dropout_rate)\n",
        "\n",
        "        self.cross_attention=CrossAttention(\n",
        "            num_heads=num_heads,\n",
        "            embed_dim=d_model,\n",
        "            dropout=dropout_rate)\n",
        "\n",
        "        self.ffn=FeedForward(d_model=d_model,dff=dff)\n",
        "\n",
        "    def forward(self,x,context):\n",
        "        x=self.causal_self_attention(x=x)\n",
        "        x=self.cross_attention(x=x,context=context)\n",
        "\n",
        "        self.last_attn_scores=self.cross_attention.last_attn_scores\n",
        "\n",
        "        x=self.ffn(x)\n",
        "        return x\n"
      ]
    },
    {
      "cell_type": "code",
      "execution_count": null,
      "metadata": {
        "colab": {
          "base_uri": "https://localhost:8080/"
        },
        "id": "zVbiwyqqs-YB",
        "outputId": "dcbeea02-2bcf-4a47-959d-7414723cbe65"
      },
      "outputs": [
        {
          "name": "stdout",
          "output_type": "stream",
          "text": [
            "torch.Size([64, 74, 512])\n",
            "torch.Size([64, 90, 512])\n",
            "torch.Size([64, 74, 512])\n"
          ]
        }
      ],
      "source": [
        "sample_decoder_layer = DecoderLayer(d_model=512, num_heads=8, dff=2048)\n",
        "\n",
        "sample_decoder_layer_output = sample_decoder_layer(\n",
        "    x=en_emb, context=deu_emb)\n",
        "\n",
        "print(en_emb.shape)\n",
        "print(deu_emb.shape)\n",
        "print(sample_decoder_layer_output.shape)  # `(batch_size, seq_len, d_model)`"
      ]
    },
    {
      "cell_type": "code",
      "execution_count": null,
      "metadata": {
        "id": "1rTan-Eos-YF"
      },
      "outputs": [],
      "source": [
        "class Decoder(nn.Module):\n",
        "    def __init__(self,*,num_layers,d_model,num_heads,\n",
        "                 dff,vocab_size,dropout_rate=0.1):\n",
        "        super(Decoder,self).__init__()\n",
        "\n",
        "        self.d_model=d_model\n",
        "        self.num_layers=num_layers\n",
        "\n",
        "        self.pos_embedding=PositionalEmbedding(\n",
        "            vocab_size=vocab_size,\n",
        "            d_model=d_model)\n",
        "\n",
        "        self.dropout=nn.Dropout(dropout_rate)\n",
        "        self.dec_layers=[\n",
        "            DecoderLayer(d_model=d_model,\n",
        "                         num_heads=num_heads,\n",
        "                         dff=dff,\n",
        "                         dropout_rate=dropout_rate)\n",
        "            for _ in range(num_layers)]\n",
        "\n",
        "        self.last_attn_scores=None\n",
        "\n",
        "    def forward(self,x,context):\n",
        "        x=self.pos_embedding(x)\n",
        "        x=self.dropout(x)\n",
        "\n",
        "        for i in range(self.num_layers):\n",
        "            x=self.dec_layers[i](x,context)\n",
        "\n",
        "\n",
        "        self.last_attn_scores=self.dec_layers[-1].last_attn_scores\n",
        "\n",
        "        return x"
      ]
    },
    {
      "cell_type": "code",
      "execution_count": null,
      "metadata": {
        "colab": {
          "base_uri": "https://localhost:8080/"
        },
        "id": "-Hqkn3aps-YF",
        "outputId": "fa23e153-17fa-4318-fbdc-bb7cfb8e0306"
      },
      "outputs": [
        {
          "name": "stdout",
          "output_type": "stream",
          "text": [
            "eng shape: torch.Size([64, 74])\n",
            "torch.Size([64, 90, 512])\n",
            "torch.Size([64, 74, 512])\n"
          ]
        }
      ],
      "source": [
        "# Instantiate the decoder.\n",
        "sample_decoder = Decoder(num_layers=4,\n",
        "                         d_model=512,\n",
        "                         num_heads=8,\n",
        "                         dff=2048,\n",
        "                         vocab_size=Config.vocab_tar_size)\n",
        "\n",
        "output = sample_decoder(\n",
        "    x=eng.to(Config.device),\n",
        "    context=deu_emb)\n",
        "\n",
        "# Print the shapes.\n",
        "print(f\"eng shape: {eng.shape}\")\n",
        "print(deu_emb.shape)\n",
        "print(output.shape)"
      ]
    },
    {
      "cell_type": "code",
      "execution_count": null,
      "metadata": {
        "colab": {
          "base_uri": "https://localhost:8080/"
        },
        "id": "wTlIcgNMs-YF",
        "outputId": "04edd92b-4fdf-4b5b-c15b-f9be17c7169d"
      },
      "outputs": [
        {
          "data": {
            "text/plain": [
              "torch.Size([64, 8, 74, 90])"
            ]
          },
          "execution_count": 43,
          "metadata": {},
          "output_type": "execute_result"
        }
      ],
      "source": [
        "sample_decoder.last_attn_scores.shape  # (batch, heads, target_seq, input_seq)"
      ]
    },
    {
      "cell_type": "code",
      "execution_count": null,
      "metadata": {
        "id": "gMVma7Vus-YG"
      },
      "outputs": [],
      "source": [
        "class Transformer(nn.Module):\n",
        "    def __init__(self,*,num_layers,d_model,num_heads,\n",
        "                 dff,input_vocab_size,target_vocab_size,\n",
        "                 dropout_rate=0.1):\n",
        "        super(Transformer,self).__init__()\n",
        "\n",
        "        self.encoder=Encoder(num_layers=num_layers,\n",
        "                             d_model=d_model,\n",
        "                             num_heads=num_heads,\n",
        "                             dff=dff,\n",
        "                             vocab_size=input_vocab_size,\n",
        "                             dropout_rate=dropout_rate)\n",
        "\n",
        "        self.decoder=Decoder(num_layers=num_layers,\n",
        "                             d_model=d_model,\n",
        "                             num_heads=num_heads,\n",
        "                             dff=dff,\n",
        "                             vocab_size=target_vocab_size,\n",
        "                             dropout_rate=dropout_rate)\n",
        "\n",
        "        self.final_layer=nn.Linear(d_model,target_vocab_size).to(Config.device)\n",
        "\n",
        "    def forward(self,inputs):\n",
        "        context,x=inputs\n",
        "        context=self.encoder(context)\n",
        "        x=self.decoder(x,context)\n",
        "        logits=self.final_layer(x)\n",
        "        return logits"
      ]
    },
    {
      "cell_type": "code",
      "execution_count": null,
      "metadata": {
        "id": "uAoRKWMas-YG"
      },
      "outputs": [],
      "source": []
    },
    {
      "cell_type": "code",
      "execution_count": null,
      "metadata": {
        "id": "mklMZ3jps-YG"
      },
      "outputs": [],
      "source": [
        "transformer=Transformer(\n",
        "    num_layers=num_layers,\n",
        "    d_model=d_model,\n",
        "    num_heads=num_heads,\n",
        "    dff=dff,\n",
        "    input_vocab_size=Config.vocab_inp_size,\n",
        "    target_vocab_size=Config.vocab_tar_size,\n",
        "    dropout_rate=dropout_rate)"
      ]
    },
    {
      "cell_type": "code",
      "execution_count": null,
      "metadata": {
        "colab": {
          "base_uri": "https://localhost:8080/"
        },
        "id": "Eyvrh0L3s-YG",
        "outputId": "c27159e6-6e23-4def-85bf-b8c2ce2c797c"
      },
      "outputs": [
        {
          "name": "stdout",
          "output_type": "stream",
          "text": [
            "torch.Size([64, 74])\n",
            "torch.Size([64, 90])\n",
            "torch.Size([64, 74, 15375])\n",
            "torch.Size([64, 74])\n"
          ]
        }
      ],
      "source": [
        "output=transformer(inputs=(deu.to(Config.device),eng.to(Config.device)))\n",
        "\n",
        "print(eng.shape)\n",
        "print(deu.shape)\n",
        "print(output.shape)\n",
        "print(eng_labels.shape)"
      ]
    },
    {
      "cell_type": "code",
      "execution_count": null,
      "metadata": {
        "colab": {
          "base_uri": "https://localhost:8080/"
        },
        "id": "v5GiaS07kaxf",
        "outputId": "a0c0e44f-8997-44f7-82df-11ada9035b7e"
      },
      "outputs": [
        {
          "name": "stdout",
          "output_type": "stream",
          "text": [
            "torch.int64\n"
          ]
        }
      ],
      "source": [
        "print(deu.dtype)"
      ]
    },
    {
      "cell_type": "code",
      "execution_count": null,
      "metadata": {
        "colab": {
          "base_uri": "https://localhost:8080/"
        },
        "id": "K16tYEjDfsMZ",
        "outputId": "0e4a86ea-2a83-43cb-cd93-b9c87da0a9e8"
      },
      "outputs": [
        {
          "data": {
            "text/plain": [
              "tensor([[15327,  8026,    12,  ...,     0,     0,     0],\n",
              "        [ 4064, 11972,  7780,  ...,     0,     0,     0],\n",
              "        [  674, 15327, 11880,  ...,     0,     0,     0],\n",
              "        ...,\n",
              "        [14904,  6227, 13860,  ...,     0,     0,     0],\n",
              "        [ 5716,  9340, 15336,  ...,     0,     0,     0],\n",
              "        [ 3794,  7228,  9031,  ...,     0,     0,     0]])"
            ]
          },
          "execution_count": 49,
          "metadata": {},
          "output_type": "execute_result"
        }
      ],
      "source": [
        "eng_labels"
      ]
    },
    {
      "cell_type": "code",
      "execution_count": null,
      "metadata": {
        "colab": {
          "base_uri": "https://localhost:8080/"
        },
        "id": "s0V3GPwefleI",
        "outputId": "1f994d57-a5ea-4654-c8d3-67b828d6d9fc"
      },
      "outputs": [
        {
          "data": {
            "text/plain": [
              "torch.Size([64, 74])"
            ]
          },
          "execution_count": 52,
          "metadata": {},
          "output_type": "execute_result"
        }
      ],
      "source": [
        "predicted_ids=torch.argmax(output,dim=-1)\n",
        "predicted_ids.shape"
      ]
    },
    {
      "cell_type": "code",
      "execution_count": null,
      "metadata": {
        "colab": {
          "base_uri": "https://localhost:8080/"
        },
        "id": "PE9zvD5Xs-YH",
        "outputId": "ed618359-d032-48f6-9b2e-ae67df9df4ce"
      },
      "outputs": [
        {
          "name": "stdout",
          "output_type": "stream",
          "text": [
            "torch.Size([64, 1])\n"
          ]
        }
      ],
      "source": [
        "print(torch.argmax(output[:, -1:, :],dim=-1).shape)"
      ]
    },
    {
      "cell_type": "code",
      "execution_count": null,
      "metadata": {
        "colab": {
          "base_uri": "https://localhost:8080/"
        },
        "id": "Le7dzGREs-YH",
        "outputId": "5a3cfa40-272c-402b-fdeb-cc9d75e2e5ac"
      },
      "outputs": [
        {
          "name": "stdout",
          "output_type": "stream",
          "text": [
            "torch.Size([64, 8, 74, 90])\n"
          ]
        }
      ],
      "source": [
        "attn_scores = transformer.decoder.dec_layers[-1].last_attn_scores\n",
        "print(attn_scores.shape)  # (batch, heads, target_seq, input_seq)"
      ]
    },
    {
      "cell_type": "code",
      "execution_count": null,
      "metadata": {
        "id": "G1Vt82aKs-YH"
      },
      "outputs": [],
      "source": [
        "class AverageMeter(object):\n",
        "    def __init__(self):\n",
        "        self.reset()\n",
        "\n",
        "    def reset(self):\n",
        "        self.val=0\n",
        "        self.avg=0\n",
        "        self.sum=0\n",
        "        self.count=0\n",
        "\n",
        "    def update(self,val,n=1):\n",
        "        self.val=val\n",
        "        self.sum+=val*n\n",
        "        self.count+=n\n",
        "        self.avg=self.sum/self.count"
      ]
    },
    {
      "cell_type": "code",
      "execution_count": null,
      "metadata": {
        "id": "8MzxyPp7s-YH"
      },
      "outputs": [],
      "source": [
        "def masked_loss(pred,labels):\n",
        "    pred=torch.tensor(pred,dtype=torch.float32)\n",
        "    labels=torch.tensor(labels,dtype=torch.float32)\n",
        "    mask=labels!=0\n",
        "\n",
        "    loss=nn.CrossEntropyLoss()\n",
        "    loss=loss(pred,labels)\n",
        "\n",
        "    mask=torch.tensor(mask,dtype=loss.dtype)\n",
        "    loss*=mask\n",
        "\n",
        "    loss=torch.sum(loss)/torch.sum(mask)\n",
        "    return loss\n",
        "\n",
        "def masked_accuracy(pred,labels):\n",
        "    labels=torch.tensor(labels,dtype=torch.float32)\n",
        "    match = labels == pred\n",
        "\n",
        "    mask=labels!=0\n",
        "\n",
        "    match = match&mask\n",
        "\n",
        "    match=torch.tensor(match,dtype=torch.float32)\n",
        "    mask=torch.tensor(mask,dtype=torch.float32)\n",
        "    return torch.sum(match)/torch.sum(mask)"
      ]
    },
    {
      "cell_type": "code",
      "execution_count": null,
      "metadata": {
        "id": "qwgggcAks-YH"
      },
      "outputs": [],
      "source": [
        "train_loss=dict()\n",
        "valid_loss=dict()\n",
        "train_acc=dict()\n",
        "valid_acc=dict()\n",
        "class Train:\n",
        "    def __init__(self,model,device,config,save_file_name = 'model_weights', weight_path='./'):\n",
        "        self.train_loss=dict()\n",
        "        self.valid_loss=dict()\n",
        "        self.train_acc=dict()\n",
        "        self.valid_acc=dict()\n",
        "        self.model=model\n",
        "        self.device=device\n",
        "        self.config=config\n",
        "        self.best_score=0\n",
        "        self.best_loss=5000\n",
        "        self.save_file_name = save_file_name\n",
        "        self.weight_path = weight_path\n",
        "\n",
        "\n",
        "    def fit(self,train_loader,valid_loader):\n",
        "\n",
        "        self.optimizer=torch.optim.Adam(self.model.parameters(),self.config.learning_rate,betas=(0.9,0.98))\n",
        "        self.scheduler=torch.optim.lr_scheduler.OneCycleLR(self.optimizer,max_lr=self.config.learning_rate,steps_per_epoch=int(len(train_loader)),epochs=self.config.epochs)\n",
        "\n",
        "\n",
        "        for epoch in range(self.config.epochs):\n",
        "\n",
        "            t=time.time()\n",
        "            print(\"Training started...\")\n",
        "\n",
        "            summary_loss,summary_train_acc=self._train_one_epoch(train_loader)\n",
        "            self.train_loss[epoch]=summary_loss.avg\n",
        "            self.train_acc[epoch]=summary_train_acc.avg\n",
        "\n",
        "            print(f'Train : Epoch {epoch}: | Summary loss: {summary_loss.avg:.3f} | Train Accuracy: {summary_train_acc.avg:} | Training time: {time.time()-t}')\n",
        "\n",
        "            t=time.time()\n",
        "            print(\"Validation started...\")\n",
        "\n",
        "            summary_loss,summary_valid_acc=self.validation(valid_loader)\n",
        "            self.valid_loss[epoch]=summary_loss.avg\n",
        "            self.valid_acc[epoch]=summary_valid_acc.avg\n",
        "\n",
        "            print(f'Valid : Epoch {epoch}: | Summary loss: {summary_loss.avg:.3f} | Valid accuracy: {summary_valid_acc.avg:} | Training time: {time.time()-t}')\n",
        "\n",
        "            if not self.best_score:\n",
        "                self.best_score=summary_loss.avg\n",
        "                print(f\"Improved model with best CE loss as {self.best_score}\")\n",
        "                self.model.eval()\n",
        "                patience=self.config.patience\n",
        "                torch.save({'model_state_dict': self.model.state_dict(),'best_score': self.best_score, 'epoch': epoch},f\"{self.weight_path}/{self.save_file_name}.pt\")\n",
        "                continue\n",
        "\n",
        "            if summary_loss.avg<=self.best_score:\n",
        "                self.best_score=summary_loss.avg\n",
        "                patience=self.config.patience\n",
        "                print(f\"Improved model with best validation loss as {self.best_score}\")\n",
        "                torch.save({'model_state_dict': self.model.state_dict(),'best_score': self.best_score, 'epoch': epoch},f\"{self.weight_path}/{self.save_file_name}.pt\")\n",
        "\n",
        "            else:\n",
        "                patience-=1\n",
        "                print(\"Patience reduced\")\n",
        "                if patience==0:\n",
        "                    print(f\"Early stopping. Lowest validation loss achieved is {self.best_score}\")\n",
        "                    break\n",
        "\n",
        "    def _train_one_epoch(self,train_loader):\n",
        "        self.model.train()\n",
        "\n",
        "        t=time.time()\n",
        "        summary_loss=AverageMeter()\n",
        "        summary_acc=AverageMeter()\n",
        "\n",
        "        for (deu,eng),eng_labels in tqdm(train_loader):\n",
        "            deu=deu.to(self.device).float32\n",
        "            eng=eng.to(self.device).float32\n",
        "            eng_labels=eng_labels.to(self.device).float32\n",
        "\n",
        "            self.optimizer.zero_grad()\n",
        "            outputs=self.model(\n",
        "                inputs=(deu.requires_grad_(),eng.requires_grad_())\n",
        "            )\n",
        "            predicted_ids = torch.argmax(outputs, dim=-1)\n",
        "\n",
        "            loss=masked_loss(predicted_ids, eng_labels)\n",
        "            trainacc=masked_accuracy(predicted_ids, eng_labels)\n",
        "            loss.backward()\n",
        "\n",
        "            self.optimizer.step()\n",
        "            self.scheduler.step()\n",
        "\n",
        "            summary_loss.update(loss.detach().item(),self.config.BATCH_SIZE)\n",
        "            summary_acc.update(trainacc.detach().item(),self.config.BATCH_SIZE)\n",
        "\n",
        "        return summary_loss,summary_acc\n",
        "\n",
        "    def validation(self,valid_loader):\n",
        "        self.model.eval()\n",
        "\n",
        "        t=time.time()\n",
        "        summary_loss=AverageMeter()\n",
        "        summary_acc=AverageMeter()\n",
        "\n",
        "        for (deu,eng),eng_labels in tqdm(valid_loader):\n",
        "            deu=deu.to(self.device)\n",
        "            eng=eng.to(self.device)\n",
        "            eng_labels=eng_labels.to(self.device)\n",
        "\n",
        "            with torch.no_grad():\n",
        "                outputs=self.model(\n",
        "                    inputs=(deu,eng)\n",
        "                )\n",
        "                predicted_ids = torch.argmax(outputs, dim=-1)\n",
        "\n",
        "                loss=masked_loss(predicted_ids, eng_labels)\n",
        "                validacc=masked_accuracy(predicted_ids, eng_labels)\n",
        "\n",
        "                summary_loss.update(loss.detach().item(),self.config.BATCH_SIZE)\n",
        "                summary_acc.update(validacc.detach().item(),self.config.BATCH_SIZE)\n",
        "\n",
        "        return summary_loss,summary_acc\n"
      ]
    },
    {
      "cell_type": "code",
      "execution_count": null,
      "metadata": {
        "id": "uWGekIQOs-YI"
      },
      "outputs": [],
      "source": [
        "def perform_run(config,model,weight_path='./', load_weights_path=None):\n",
        "    train_dataset=LanguageDataset(input_tensor_train,target_tensor_train)\n",
        "    train_loader=DataLoader(train_dataset,shuffle=True,drop_last=True,batch_size=Config.BATCH_SIZE)\n",
        "\n",
        "    valid_dataset=LanguageDataset(input_tensor_valid,target_tensor_valid)\n",
        "    valid_loader=DataLoader(valid_dataset,batch_size=Config.BATCH_SIZE,shuffle=True,drop_last=True)\n",
        "\n",
        "    if load_weights_path is not None:\n",
        "      model.load_state_dict(torch.load(load_weights_path + f\"{config.save_file_name}.pt\")[\"model_state_dict\"])\n",
        "      print(\"Weight Loaded\")\n",
        "\n",
        "    trainer=Train(model=model.to(Config.device),device=Config.device,config=Config,weight_path=weight_path)\n",
        "    trainer.fit(train_loader,valid_loader)"
      ]
    },
    {
      "cell_type": "code",
      "execution_count": null,
      "metadata": {
        "colab": {
          "base_uri": "https://localhost:8080/",
          "height": 372,
          "referenced_widgets": [
            "c73dca4d52c04e539ae1bb868c48c89b",
            "3f70e7adfb51438e897045f2f932ecbc",
            "44afbfa5c8154318b2e20b2d2b509d6f",
            "2812f68644b04ff98140c925b8ab3935",
            "fe2d35d5885c46348f0feed7e5ebd9af",
            "e3244932f94d4c618476f1888db74371",
            "70a4902fc2d14b9b8f97a7b0189c31a0",
            "3a825a2c0d9841f2a9c10b3ea0309293",
            "7ccd2864027f4c18b2fb3186f10f6c75",
            "a2b87f95b3774a87828bc0c92afb5e97",
            "0d61e2eb119c452f96fd7bdda371851b"
          ]
        },
        "id": "AXdYpDPxs-YI",
        "outputId": "5dded608-878f-4dec-bcf3-c76a00d0fabf"
      },
      "outputs": [
        {
          "name": "stdout",
          "output_type": "stream",
          "text": [
            "Training started...\n"
          ]
        },
        {
          "data": {
            "application/vnd.jupyter.widget-view+json": {
              "model_id": "c73dca4d52c04e539ae1bb868c48c89b",
              "version_major": 2,
              "version_minor": 0
            },
            "text/plain": [
              "  0%|          | 0/2860 [00:00<?, ?it/s]"
            ]
          },
          "metadata": {},
          "output_type": "display_data"
        },
        {
          "ename": "AttributeError",
          "evalue": "ignored",
          "output_type": "error",
          "traceback": [
            "\u001b[0;31m---------------------------------------------------------------------------\u001b[0m",
            "\u001b[0;31mAttributeError\u001b[0m                            Traceback (most recent call last)",
            "\u001b[0;32m<ipython-input-67-bb0827a87765>\u001b[0m in \u001b[0;36m<cell line: 1>\u001b[0;34m()\u001b[0m\n\u001b[0;32m----> 1\u001b[0;31m \u001b[0mmodeltransformer\u001b[0m\u001b[0;34m=\u001b[0m\u001b[0mperform_run\u001b[0m\u001b[0;34m(\u001b[0m\u001b[0mConfig\u001b[0m\u001b[0;34m,\u001b[0m\u001b[0mtransformer\u001b[0m\u001b[0;34m,\u001b[0m\u001b[0mConfig\u001b[0m\u001b[0;34m.\u001b[0m\u001b[0mload_weights_path\u001b[0m\u001b[0;34m)\u001b[0m\u001b[0;34m\u001b[0m\u001b[0;34m\u001b[0m\u001b[0m\n\u001b[0m",
            "\u001b[0;32m<ipython-input-66-2e4cefba7cb7>\u001b[0m in \u001b[0;36mperform_run\u001b[0;34m(config, model, weight_path, load_weights_path)\u001b[0m\n\u001b[1;32m     11\u001b[0m \u001b[0;34m\u001b[0m\u001b[0m\n\u001b[1;32m     12\u001b[0m     \u001b[0mtrainer\u001b[0m\u001b[0;34m=\u001b[0m\u001b[0mTrain\u001b[0m\u001b[0;34m(\u001b[0m\u001b[0mmodel\u001b[0m\u001b[0;34m=\u001b[0m\u001b[0mmodel\u001b[0m\u001b[0;34m.\u001b[0m\u001b[0mto\u001b[0m\u001b[0;34m(\u001b[0m\u001b[0mConfig\u001b[0m\u001b[0;34m.\u001b[0m\u001b[0mdevice\u001b[0m\u001b[0;34m)\u001b[0m\u001b[0;34m,\u001b[0m\u001b[0mdevice\u001b[0m\u001b[0;34m=\u001b[0m\u001b[0mConfig\u001b[0m\u001b[0;34m.\u001b[0m\u001b[0mdevice\u001b[0m\u001b[0;34m,\u001b[0m\u001b[0mconfig\u001b[0m\u001b[0;34m=\u001b[0m\u001b[0mConfig\u001b[0m\u001b[0;34m,\u001b[0m\u001b[0mweight_path\u001b[0m\u001b[0;34m=\u001b[0m\u001b[0mweight_path\u001b[0m\u001b[0;34m)\u001b[0m\u001b[0;34m\u001b[0m\u001b[0;34m\u001b[0m\u001b[0m\n\u001b[0;32m---> 13\u001b[0;31m     \u001b[0mtrainer\u001b[0m\u001b[0;34m.\u001b[0m\u001b[0mfit\u001b[0m\u001b[0;34m(\u001b[0m\u001b[0mtrain_loader\u001b[0m\u001b[0;34m,\u001b[0m\u001b[0mvalid_loader\u001b[0m\u001b[0;34m)\u001b[0m\u001b[0;34m\u001b[0m\u001b[0;34m\u001b[0m\u001b[0m\n\u001b[0m",
            "\u001b[0;32m<ipython-input-65-d458b00e10ea>\u001b[0m in \u001b[0;36mfit\u001b[0;34m(self, train_loader, valid_loader)\u001b[0m\n\u001b[1;32m     29\u001b[0m             \u001b[0mprint\u001b[0m\u001b[0;34m(\u001b[0m\u001b[0;34m\"Training started...\"\u001b[0m\u001b[0;34m)\u001b[0m\u001b[0;34m\u001b[0m\u001b[0;34m\u001b[0m\u001b[0m\n\u001b[1;32m     30\u001b[0m \u001b[0;34m\u001b[0m\u001b[0m\n\u001b[0;32m---> 31\u001b[0;31m             \u001b[0msummary_loss\u001b[0m\u001b[0;34m,\u001b[0m\u001b[0msummary_train_acc\u001b[0m\u001b[0;34m=\u001b[0m\u001b[0mself\u001b[0m\u001b[0;34m.\u001b[0m\u001b[0m_train_one_epoch\u001b[0m\u001b[0;34m(\u001b[0m\u001b[0mtrain_loader\u001b[0m\u001b[0;34m)\u001b[0m\u001b[0;34m\u001b[0m\u001b[0;34m\u001b[0m\u001b[0m\n\u001b[0m\u001b[1;32m     32\u001b[0m             \u001b[0mself\u001b[0m\u001b[0;34m.\u001b[0m\u001b[0mtrain_loss\u001b[0m\u001b[0;34m[\u001b[0m\u001b[0mepoch\u001b[0m\u001b[0;34m]\u001b[0m\u001b[0;34m=\u001b[0m\u001b[0msummary_loss\u001b[0m\u001b[0;34m.\u001b[0m\u001b[0mavg\u001b[0m\u001b[0;34m\u001b[0m\u001b[0;34m\u001b[0m\u001b[0m\n\u001b[1;32m     33\u001b[0m             \u001b[0mself\u001b[0m\u001b[0;34m.\u001b[0m\u001b[0mtrain_acc\u001b[0m\u001b[0;34m[\u001b[0m\u001b[0mepoch\u001b[0m\u001b[0;34m]\u001b[0m\u001b[0;34m=\u001b[0m\u001b[0msummary_train_acc\u001b[0m\u001b[0;34m.\u001b[0m\u001b[0mavg\u001b[0m\u001b[0;34m\u001b[0m\u001b[0;34m\u001b[0m\u001b[0m\n",
            "\u001b[0;32m<ipython-input-65-d458b00e10ea>\u001b[0m in \u001b[0;36m_train_one_epoch\u001b[0;34m(self, train_loader)\u001b[0m\n\u001b[1;32m     73\u001b[0m \u001b[0;34m\u001b[0m\u001b[0m\n\u001b[1;32m     74\u001b[0m         \u001b[0;32mfor\u001b[0m \u001b[0;34m(\u001b[0m\u001b[0mdeu\u001b[0m\u001b[0;34m,\u001b[0m\u001b[0meng\u001b[0m\u001b[0;34m)\u001b[0m\u001b[0;34m,\u001b[0m\u001b[0meng_labels\u001b[0m \u001b[0;32min\u001b[0m \u001b[0mtqdm\u001b[0m\u001b[0;34m(\u001b[0m\u001b[0mtrain_loader\u001b[0m\u001b[0;34m)\u001b[0m\u001b[0;34m:\u001b[0m\u001b[0;34m\u001b[0m\u001b[0;34m\u001b[0m\u001b[0m\n\u001b[0;32m---> 75\u001b[0;31m             \u001b[0mdeu\u001b[0m\u001b[0;34m=\u001b[0m\u001b[0mdeu\u001b[0m\u001b[0;34m.\u001b[0m\u001b[0mto\u001b[0m\u001b[0;34m(\u001b[0m\u001b[0mself\u001b[0m\u001b[0;34m.\u001b[0m\u001b[0mdevice\u001b[0m\u001b[0;34m)\u001b[0m\u001b[0;34m.\u001b[0m\u001b[0mfloat32\u001b[0m\u001b[0;34m(\u001b[0m\u001b[0;34m)\u001b[0m\u001b[0;34m\u001b[0m\u001b[0;34m\u001b[0m\u001b[0m\n\u001b[0m\u001b[1;32m     76\u001b[0m             \u001b[0meng\u001b[0m\u001b[0;34m=\u001b[0m\u001b[0meng\u001b[0m\u001b[0;34m.\u001b[0m\u001b[0mto\u001b[0m\u001b[0;34m(\u001b[0m\u001b[0mself\u001b[0m\u001b[0;34m.\u001b[0m\u001b[0mdevice\u001b[0m\u001b[0;34m)\u001b[0m\u001b[0;34m.\u001b[0m\u001b[0mfloat32\u001b[0m\u001b[0;34m(\u001b[0m\u001b[0;34m)\u001b[0m\u001b[0;34m\u001b[0m\u001b[0;34m\u001b[0m\u001b[0m\n\u001b[1;32m     77\u001b[0m             \u001b[0meng_labels\u001b[0m\u001b[0;34m=\u001b[0m\u001b[0meng_labels\u001b[0m\u001b[0;34m.\u001b[0m\u001b[0mto\u001b[0m\u001b[0;34m(\u001b[0m\u001b[0mself\u001b[0m\u001b[0;34m.\u001b[0m\u001b[0mdevice\u001b[0m\u001b[0;34m)\u001b[0m\u001b[0;34m.\u001b[0m\u001b[0mfloat32\u001b[0m\u001b[0;34m(\u001b[0m\u001b[0;34m)\u001b[0m\u001b[0;34m\u001b[0m\u001b[0;34m\u001b[0m\u001b[0m\n",
            "\u001b[0;31mAttributeError\u001b[0m: 'Tensor' object has no attribute 'float32'"
          ]
        }
      ],
      "source": [
        "modeltransformer=perform_run(Config,transformer,Config.load_weights_path)"
      ]
    },
    {
      "cell_type": "code",
      "execution_count": null,
      "metadata": {
        "id": "c3091JRSs-YI"
      },
      "outputs": [],
      "source": []
    },
    {
      "cell_type": "code",
      "execution_count": null,
      "metadata": {
        "id": "V7CWYyOGs-YJ"
      },
      "outputs": [],
      "source": []
    },
    {
      "cell_type": "code",
      "execution_count": null,
      "metadata": {
        "id": "YYRm03LMs-YJ"
      },
      "outputs": [],
      "source": []
    }
  ],
  "metadata": {
    "accelerator": "GPU",
    "colab": {
      "provenance": []
    },
    "kernelspec": {
      "display_name": "Python 3",
      "name": "python3"
    },
    "language_info": {
      "codemirror_mode": {
        "name": "ipython",
        "version": 3
      },
      "file_extension": ".py",
      "mimetype": "text/x-python",
      "name": "python",
      "nbconvert_exporter": "python",
      "pygments_lexer": "ipython3",
      "version": "3.10.9"
    },
    "widgets": {
      "application/vnd.jupyter.widget-state+json": {
        "0d61e2eb119c452f96fd7bdda371851b": {
          "model_module": "@jupyter-widgets/controls",
          "model_module_version": "1.5.0",
          "model_name": "DescriptionStyleModel",
          "state": {
            "_model_module": "@jupyter-widgets/controls",
            "_model_module_version": "1.5.0",
            "_model_name": "DescriptionStyleModel",
            "_view_count": null,
            "_view_module": "@jupyter-widgets/base",
            "_view_module_version": "1.2.0",
            "_view_name": "StyleView",
            "description_width": ""
          }
        },
        "2812f68644b04ff98140c925b8ab3935": {
          "model_module": "@jupyter-widgets/controls",
          "model_module_version": "1.5.0",
          "model_name": "HTMLModel",
          "state": {
            "_dom_classes": [],
            "_model_module": "@jupyter-widgets/controls",
            "_model_module_version": "1.5.0",
            "_model_name": "HTMLModel",
            "_view_count": null,
            "_view_module": "@jupyter-widgets/controls",
            "_view_module_version": "1.5.0",
            "_view_name": "HTMLView",
            "description": "",
            "description_tooltip": null,
            "layout": "IPY_MODEL_a2b87f95b3774a87828bc0c92afb5e97",
            "placeholder": "​",
            "style": "IPY_MODEL_0d61e2eb119c452f96fd7bdda371851b",
            "value": " 0/2860 [00:00&lt;?, ?it/s]"
          }
        },
        "3a825a2c0d9841f2a9c10b3ea0309293": {
          "model_module": "@jupyter-widgets/base",
          "model_module_version": "1.2.0",
          "model_name": "LayoutModel",
          "state": {
            "_model_module": "@jupyter-widgets/base",
            "_model_module_version": "1.2.0",
            "_model_name": "LayoutModel",
            "_view_count": null,
            "_view_module": "@jupyter-widgets/base",
            "_view_module_version": "1.2.0",
            "_view_name": "LayoutView",
            "align_content": null,
            "align_items": null,
            "align_self": null,
            "border": null,
            "bottom": null,
            "display": null,
            "flex": null,
            "flex_flow": null,
            "grid_area": null,
            "grid_auto_columns": null,
            "grid_auto_flow": null,
            "grid_auto_rows": null,
            "grid_column": null,
            "grid_gap": null,
            "grid_row": null,
            "grid_template_areas": null,
            "grid_template_columns": null,
            "grid_template_rows": null,
            "height": null,
            "justify_content": null,
            "justify_items": null,
            "left": null,
            "margin": null,
            "max_height": null,
            "max_width": null,
            "min_height": null,
            "min_width": null,
            "object_fit": null,
            "object_position": null,
            "order": null,
            "overflow": null,
            "overflow_x": null,
            "overflow_y": null,
            "padding": null,
            "right": null,
            "top": null,
            "visibility": null,
            "width": null
          }
        },
        "3f70e7adfb51438e897045f2f932ecbc": {
          "model_module": "@jupyter-widgets/controls",
          "model_module_version": "1.5.0",
          "model_name": "HTMLModel",
          "state": {
            "_dom_classes": [],
            "_model_module": "@jupyter-widgets/controls",
            "_model_module_version": "1.5.0",
            "_model_name": "HTMLModel",
            "_view_count": null,
            "_view_module": "@jupyter-widgets/controls",
            "_view_module_version": "1.5.0",
            "_view_name": "HTMLView",
            "description": "",
            "description_tooltip": null,
            "layout": "IPY_MODEL_e3244932f94d4c618476f1888db74371",
            "placeholder": "​",
            "style": "IPY_MODEL_70a4902fc2d14b9b8f97a7b0189c31a0",
            "value": "  0%"
          }
        },
        "44afbfa5c8154318b2e20b2d2b509d6f": {
          "model_module": "@jupyter-widgets/controls",
          "model_module_version": "1.5.0",
          "model_name": "FloatProgressModel",
          "state": {
            "_dom_classes": [],
            "_model_module": "@jupyter-widgets/controls",
            "_model_module_version": "1.5.0",
            "_model_name": "FloatProgressModel",
            "_view_count": null,
            "_view_module": "@jupyter-widgets/controls",
            "_view_module_version": "1.5.0",
            "_view_name": "ProgressView",
            "bar_style": "danger",
            "description": "",
            "description_tooltip": null,
            "layout": "IPY_MODEL_3a825a2c0d9841f2a9c10b3ea0309293",
            "max": 2860,
            "min": 0,
            "orientation": "horizontal",
            "style": "IPY_MODEL_7ccd2864027f4c18b2fb3186f10f6c75",
            "value": 0
          }
        },
        "70a4902fc2d14b9b8f97a7b0189c31a0": {
          "model_module": "@jupyter-widgets/controls",
          "model_module_version": "1.5.0",
          "model_name": "DescriptionStyleModel",
          "state": {
            "_model_module": "@jupyter-widgets/controls",
            "_model_module_version": "1.5.0",
            "_model_name": "DescriptionStyleModel",
            "_view_count": null,
            "_view_module": "@jupyter-widgets/base",
            "_view_module_version": "1.2.0",
            "_view_name": "StyleView",
            "description_width": ""
          }
        },
        "7ccd2864027f4c18b2fb3186f10f6c75": {
          "model_module": "@jupyter-widgets/controls",
          "model_module_version": "1.5.0",
          "model_name": "ProgressStyleModel",
          "state": {
            "_model_module": "@jupyter-widgets/controls",
            "_model_module_version": "1.5.0",
            "_model_name": "ProgressStyleModel",
            "_view_count": null,
            "_view_module": "@jupyter-widgets/base",
            "_view_module_version": "1.2.0",
            "_view_name": "StyleView",
            "bar_color": null,
            "description_width": ""
          }
        },
        "a2b87f95b3774a87828bc0c92afb5e97": {
          "model_module": "@jupyter-widgets/base",
          "model_module_version": "1.2.0",
          "model_name": "LayoutModel",
          "state": {
            "_model_module": "@jupyter-widgets/base",
            "_model_module_version": "1.2.0",
            "_model_name": "LayoutModel",
            "_view_count": null,
            "_view_module": "@jupyter-widgets/base",
            "_view_module_version": "1.2.0",
            "_view_name": "LayoutView",
            "align_content": null,
            "align_items": null,
            "align_self": null,
            "border": null,
            "bottom": null,
            "display": null,
            "flex": null,
            "flex_flow": null,
            "grid_area": null,
            "grid_auto_columns": null,
            "grid_auto_flow": null,
            "grid_auto_rows": null,
            "grid_column": null,
            "grid_gap": null,
            "grid_row": null,
            "grid_template_areas": null,
            "grid_template_columns": null,
            "grid_template_rows": null,
            "height": null,
            "justify_content": null,
            "justify_items": null,
            "left": null,
            "margin": null,
            "max_height": null,
            "max_width": null,
            "min_height": null,
            "min_width": null,
            "object_fit": null,
            "object_position": null,
            "order": null,
            "overflow": null,
            "overflow_x": null,
            "overflow_y": null,
            "padding": null,
            "right": null,
            "top": null,
            "visibility": null,
            "width": null
          }
        },
        "c73dca4d52c04e539ae1bb868c48c89b": {
          "model_module": "@jupyter-widgets/controls",
          "model_module_version": "1.5.0",
          "model_name": "HBoxModel",
          "state": {
            "_dom_classes": [],
            "_model_module": "@jupyter-widgets/controls",
            "_model_module_version": "1.5.0",
            "_model_name": "HBoxModel",
            "_view_count": null,
            "_view_module": "@jupyter-widgets/controls",
            "_view_module_version": "1.5.0",
            "_view_name": "HBoxView",
            "box_style": "",
            "children": [
              "IPY_MODEL_3f70e7adfb51438e897045f2f932ecbc",
              "IPY_MODEL_44afbfa5c8154318b2e20b2d2b509d6f",
              "IPY_MODEL_2812f68644b04ff98140c925b8ab3935"
            ],
            "layout": "IPY_MODEL_fe2d35d5885c46348f0feed7e5ebd9af"
          }
        },
        "e3244932f94d4c618476f1888db74371": {
          "model_module": "@jupyter-widgets/base",
          "model_module_version": "1.2.0",
          "model_name": "LayoutModel",
          "state": {
            "_model_module": "@jupyter-widgets/base",
            "_model_module_version": "1.2.0",
            "_model_name": "LayoutModel",
            "_view_count": null,
            "_view_module": "@jupyter-widgets/base",
            "_view_module_version": "1.2.0",
            "_view_name": "LayoutView",
            "align_content": null,
            "align_items": null,
            "align_self": null,
            "border": null,
            "bottom": null,
            "display": null,
            "flex": null,
            "flex_flow": null,
            "grid_area": null,
            "grid_auto_columns": null,
            "grid_auto_flow": null,
            "grid_auto_rows": null,
            "grid_column": null,
            "grid_gap": null,
            "grid_row": null,
            "grid_template_areas": null,
            "grid_template_columns": null,
            "grid_template_rows": null,
            "height": null,
            "justify_content": null,
            "justify_items": null,
            "left": null,
            "margin": null,
            "max_height": null,
            "max_width": null,
            "min_height": null,
            "min_width": null,
            "object_fit": null,
            "object_position": null,
            "order": null,
            "overflow": null,
            "overflow_x": null,
            "overflow_y": null,
            "padding": null,
            "right": null,
            "top": null,
            "visibility": null,
            "width": null
          }
        },
        "fe2d35d5885c46348f0feed7e5ebd9af": {
          "model_module": "@jupyter-widgets/base",
          "model_module_version": "1.2.0",
          "model_name": "LayoutModel",
          "state": {
            "_model_module": "@jupyter-widgets/base",
            "_model_module_version": "1.2.0",
            "_model_name": "LayoutModel",
            "_view_count": null,
            "_view_module": "@jupyter-widgets/base",
            "_view_module_version": "1.2.0",
            "_view_name": "LayoutView",
            "align_content": null,
            "align_items": null,
            "align_self": null,
            "border": null,
            "bottom": null,
            "display": null,
            "flex": null,
            "flex_flow": null,
            "grid_area": null,
            "grid_auto_columns": null,
            "grid_auto_flow": null,
            "grid_auto_rows": null,
            "grid_column": null,
            "grid_gap": null,
            "grid_row": null,
            "grid_template_areas": null,
            "grid_template_columns": null,
            "grid_template_rows": null,
            "height": null,
            "justify_content": null,
            "justify_items": null,
            "left": null,
            "margin": null,
            "max_height": null,
            "max_width": null,
            "min_height": null,
            "min_width": null,
            "object_fit": null,
            "object_position": null,
            "order": null,
            "overflow": null,
            "overflow_x": null,
            "overflow_y": null,
            "padding": null,
            "right": null,
            "top": null,
            "visibility": null,
            "width": null
          }
        }
      }
    }
  },
  "nbformat": 4,
  "nbformat_minor": 0
}
